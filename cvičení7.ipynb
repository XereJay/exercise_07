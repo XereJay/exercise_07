{
 "cells": [
  {
   "cell_type": "code",
   "execution_count": 2,
   "metadata": {
    "vscode": {
     "languageId": "r"
    }
   },
   "outputs": [
    {
     "name": "stderr",
     "output_type": "stream",
     "text": [
      "Warning message:\n",
      "\"package 'Biostrings' was built under R version 4.3.3\"\n",
      "Loading required package: BiocGenerics\n",
      "\n",
      "\n",
      "Attaching package: 'BiocGenerics'\n",
      "\n",
      "\n",
      "The following objects are masked from 'package:stats':\n",
      "\n",
      "    IQR, mad, sd, var, xtabs\n",
      "\n",
      "\n",
      "The following objects are masked from 'package:base':\n",
      "\n",
      "    anyDuplicated, aperm, append, as.data.frame, basename, cbind,\n",
      "    colnames, dirname, do.call, duplicated, eval, evalq, Filter, Find,\n",
      "    get, grep, grepl, intersect, is.unsorted, lapply, Map, mapply,\n",
      "    match, mget, order, paste, pmax, pmax.int, pmin, pmin.int,\n",
      "    Position, rank, rbind, Reduce, rownames, sapply, setdiff, sort,\n",
      "    table, tapply, union, unique, unsplit, which.max, which.min\n",
      "\n",
      "\n",
      "Loading required package: S4Vectors\n",
      "\n",
      "Loading required package: stats4\n",
      "\n",
      "\n",
      "Attaching package: 'S4Vectors'\n",
      "\n",
      "\n",
      "The following object is masked from 'package:utils':\n",
      "\n",
      "    findMatches\n",
      "\n",
      "\n",
      "The following objects are masked from 'package:base':\n",
      "\n",
      "    expand.grid, I, unname\n",
      "\n",
      "\n",
      "Loading required package: IRanges\n",
      "\n",
      "\n",
      "Attaching package: 'IRanges'\n",
      "\n",
      "\n",
      "The following object is masked from 'package:grDevices':\n",
      "\n",
      "    windows\n",
      "\n",
      "\n",
      "Loading required package: XVector\n",
      "\n",
      "Loading required package: GenomeInfoDb\n",
      "\n",
      "Warning message:\n",
      "\"package 'GenomeInfoDb' was built under R version 4.3.3\"\n",
      "\n",
      "Attaching package: 'Biostrings'\n",
      "\n",
      "\n",
      "The following object is masked from 'package:base':\n",
      "\n",
      "    strsplit\n",
      "\n",
      "\n"
     ]
    }
   ],
   "source": [
    "library(Biostrings)"
   ]
  },
  {
   "cell_type": "code",
   "execution_count": 4,
   "metadata": {
    "vscode": {
     "languageId": "r"
    }
   },
   "outputs": [],
   "source": [
    "DNA <- readDNAStringSet(\"seq_motif.fasta\")"
   ]
  },
  {
   "cell_type": "code",
   "execution_count": 5,
   "metadata": {
    "vscode": {
     "languageId": "r"
    }
   },
   "outputs": [
    {
     "data": {
      "text/plain": [
       "DNAStringSet object of length 4:\n",
       "    width seq                                               names               \n",
       "[1]     8 \u001b[47m\u001b[30mA\u001b[39m\u001b[49m\u001b[47m\u001b[30mA\u001b[39m\u001b[49m\u001b[47m\u001b[30mC\u001b[39m\u001b[49m\u001b[47m\u001b[30mG\u001b[39m\u001b[49m\u001b[47m\u001b[30mT\u001b[39m\u001b[49m\u001b[47m\u001b[30mG\u001b[39m\u001b[49m\u001b[47m\u001b[30mC\u001b[39m\u001b[49m\u001b[47m\u001b[30mT\u001b[39m\u001b[49m                                          sequence 1\n",
       "[2]     8 \u001b[47m\u001b[30mC\u001b[39m\u001b[49m\u001b[47m\u001b[30mA\u001b[39m\u001b[49m\u001b[47m\u001b[30mT\u001b[39m\u001b[49m\u001b[47m\u001b[30mA\u001b[39m\u001b[49m\u001b[47m\u001b[30mC\u001b[39m\u001b[49m\u001b[47m\u001b[30mG\u001b[39m\u001b[49m\u001b[47m\u001b[30mT\u001b[39m\u001b[49m\u001b[47m\u001b[30mA\u001b[39m\u001b[49m                                          sequence 2\n",
       "[3]     8 \u001b[47m\u001b[30mA\u001b[39m\u001b[49m\u001b[47m\u001b[30mC\u001b[39m\u001b[49m\u001b[47m\u001b[30mC\u001b[39m\u001b[49m\u001b[47m\u001b[30mT\u001b[39m\u001b[49m\u001b[47m\u001b[30mT\u001b[39m\u001b[49m\u001b[47m\u001b[30mA\u001b[39m\u001b[49m\u001b[47m\u001b[30mG\u001b[39m\u001b[49m\u001b[47m\u001b[30mC\u001b[39m\u001b[49m                                          sequence 3\n",
       "[4]     8 \u001b[47m\u001b[30mT\u001b[39m\u001b[49m\u001b[47m\u001b[30mC\u001b[39m\u001b[49m\u001b[47m\u001b[30mT\u001b[39m\u001b[49m\u001b[47m\u001b[30mC\u001b[39m\u001b[49m\u001b[47m\u001b[30mC\u001b[39m\u001b[49m\u001b[47m\u001b[30mG\u001b[39m\u001b[49m\u001b[47m\u001b[30mT\u001b[39m\u001b[49m\u001b[47m\u001b[30mA\u001b[39m\u001b[49m                                          sequence 4"
      ]
     },
     "metadata": {},
     "output_type": "display_data"
    }
   ],
   "source": [
    "DNA"
   ]
  },
  {
   "cell_type": "markdown",
   "metadata": {},
   "source": [
    "# The Brute-Force Motif Search"
   ]
  },
  {
   "cell_type": "markdown",
   "metadata": {},
   "source": [
    "## task 1"
   ]
  },
  {
   "cell_type": "code",
   "execution_count": 7,
   "metadata": {
    "vscode": {
     "languageId": "r"
    }
   },
   "outputs": [
    {
     "data": {
      "text/html": [
       "16"
      ],
      "text/latex": [
       "16"
      ],
      "text/markdown": [
       "16"
      ],
      "text/plain": [
       "[1] 16"
      ]
     },
     "metadata": {},
     "output_type": "display_data"
    }
   ],
   "source": [
    "Score <- function(s, DNA, l) {\n",
    "  # Initialize the frequency profile matrix\n",
    "  profile <- matrix(0, nrow = 4, ncol = l, dimnames = list(c(\"A\", \"C\", \"G\", \"T\")))\n",
    "  \n",
    "  # Fill in the profile matrix by counting nucleotides\n",
    "  for (i in seq_along(s)) {\n",
    "    start <- s[i]\n",
    "    motif <- subseq(DNA[[i]], start, start + l - 1)\n",
    "    for (j in 1:l) {\n",
    "      nucleotide <- as.character(motif[j])\n",
    "      profile[nucleotide, j] <- profile[nucleotide, j] + 1\n",
    "    }\n",
    "  }\n",
    "  \n",
    "  # Calculate the score by summing the highest counts in each column (consensus string score)\n",
    "  score <- sum(apply(profile, 2, max))\n",
    "  return(score)\n",
    "}\n",
    "\n",
    "s <- c(1, 1, 1, 1)\n",
    "l <- 8\n",
    "Score(s, DNA, l)"
   ]
  },
  {
   "cell_type": "markdown",
   "metadata": {},
   "source": [
    "## task 2"
   ]
  },
  {
   "cell_type": "code",
   "execution_count": 9,
   "metadata": {
    "vscode": {
     "languageId": "r"
    }
   },
   "outputs": [],
   "source": [
    "NextLeaf <- function(a, L, k) {\n",
    "  for (i in L:1) {\n",
    "    if (a[i] < k) {\n",
    "      a[i] <- a[i] + 1\n",
    "      return(a)\n",
    "    }\n",
    "    a[i] <- 1\n",
    "  }\n",
    "  return(a)\n",
    "}"
   ]
  },
  {
   "cell_type": "markdown",
   "metadata": {},
   "source": [
    "## task 3"
   ]
  },
  {
   "cell_type": "code",
   "execution_count": 13,
   "metadata": {
    "vscode": {
     "languageId": "r"
    }
   },
   "outputs": [
    {
     "name": "stdout",
     "output_type": "stream",
     "text": [
      "[1] 2 4 1 4\n"
     ]
    }
   ],
   "source": [
    "BFMotifSearch <- function(DNA, t, n, l) {\n",
    "  # Step 1: Initialize starting positions array s and bestScore\n",
    "  s <- rep(1, t)\n",
    "  bestScore <- Score(s, DNA, l)\n",
    "  bestMotif <- s\n",
    "  \n",
    "  # Maximum starting index k for each sequence\n",
    "  k <- n - l + 1\n",
    "  \n",
    "  # Step 2: Search through all starting positions using NextLeaf\n",
    "  repeat {\n",
    "    # Generate the next leaf in the enumeration tree\n",
    "    s <- NextLeaf(s, t, k)\n",
    "    \n",
    "    # Calculate score for the current starting positions\n",
    "    currentScore <- Score(s, DNA, l)\n",
    "    \n",
    "    # Update bestScore and bestMotif if a higher score is found\n",
    "    if (currentScore > bestScore) {\n",
    "      bestScore <- currentScore\n",
    "      bestMotif <- s\n",
    "    }\n",
    "    \n",
    "    # Check if we've looped back to the initial position\n",
    "    if (all(s == rep(1, t))) {\n",
    "      break\n",
    "    }\n",
    "  }\n",
    "  \n",
    "  # Step 3: Return the best starting positions (bestMotif) for the highest score\n",
    "  return(bestMotif)\n",
    "}\n",
    "\n",
    "\n",
    "t <- length(DNA)\n",
    "\n",
    "# Length of each DNA sequence\n",
    "n <- width(DNA[1])\n",
    "\n",
    "# Motif length\n",
    "l <- 5\n",
    "\n",
    "# Run the brute-force motif search\n",
    "bestMotif <- BFMotifSearch(DNA, t, n, l)\n",
    "print(bestMotif)"
   ]
  },
  {
   "cell_type": "markdown",
   "metadata": {},
   "source": [
    "# The Branch-and-Bound Motif Search"
   ]
  },
  {
   "cell_type": "markdown",
   "metadata": {},
   "source": [
    "## task 4"
   ]
  },
  {
   "cell_type": "code",
   "execution_count": 14,
   "metadata": {
    "vscode": {
     "languageId": "r"
    }
   },
   "outputs": [
    {
     "name": "stdout",
     "output_type": "stream",
     "text": [
      "[1] 1 1 1\n",
      "[1] 2\n"
     ]
    }
   ],
   "source": [
    "NextVertex <- function(a, i, L, k) {\n",
    "  if (i < L) {\n",
    "    # Step 1: If i < L, increment level and reset the next position to 1\n",
    "    a[i + 1] <- 1\n",
    "    return(list(a = a, i = i + 1))\n",
    "  } else {\n",
    "    # Step 2: Start from the last position and move backward\n",
    "    for (j in L:1) {\n",
    "      if (a[j] < k) {\n",
    "        # Increment the position and reset all following positions to 1\n",
    "        a[j] <- a[j] + 1\n",
    "        if (j < L) {\n",
    "          a[(j + 1):L] <- 1\n",
    "        }\n",
    "        return(list(a = a, i = j))\n",
    "      }\n",
    "    }\n",
    "  }\n",
    "  \n",
    "  # Step 3: If no increment is possible, return to initial configuration with i = 0\n",
    "  return(list(a = a, i = 0))\n",
    "}\n",
    "\n",
    "a <- c(1, 1, 1)  # Initial starting indexes\n",
    "i <- 1           # Initial level\n",
    "L <- 3           # Number of DNA sequences\n",
    "k <- 4           # Maximum valid starting position index\n",
    "\n",
    "# Run NextVertex to get the next vertex in the tree\n",
    "result <- NextVertex(a, i, L, k)\n",
    "print(result$a)  # Updated starting indexes\n",
    "print(result$i)  # Updated level"
   ]
  },
  {
   "cell_type": "markdown",
   "metadata": {},
   "source": [
    "# task 5"
   ]
  },
  {
   "cell_type": "code",
   "execution_count": 15,
   "metadata": {
    "vscode": {
     "languageId": "r"
    }
   },
   "outputs": [
    {
     "name": "stdout",
     "output_type": "stream",
     "text": [
      "[1] 1 4 4\n",
      "[1] 2\n"
     ]
    }
   ],
   "source": [
    "ByPass <- function(a, i, L, k) {\n",
    "  # Start from level i and move backward to find a position that can be incremented\n",
    "  for (j in i:1) {\n",
    "    if (a[j] < k) {\n",
    "      # Increment the position and return the updated array and level\n",
    "      a[j] <- a[j] + 1\n",
    "      return(list(a = a, i = j))\n",
    "    }\n",
    "  }\n",
    "  \n",
    "  # If no increment is possible, return a with level set to 0\n",
    "  return(list(a = a, i = 0))\n",
    "}\n",
    "\n",
    "a <- c(1, 3, 4)  # Initial starting indexes\n",
    "i <- 2           # Current level\n",
    "L <- 3           # Number of DNA sequences\n",
    "k <- 4           # Maximum valid starting position index\n",
    "\n",
    "# Run ByPass to skip a subtree and move to the next available leaf\n",
    "result <- ByPass(a, i, L, k)\n",
    "print(result$a)  # Updated starting indexes\n",
    "print(result$i)  # Updated level"
   ]
  },
  {
   "cell_type": "markdown",
   "metadata": {},
   "source": [
    "# task 6"
   ]
  },
  {
   "cell_type": "markdown",
   "metadata": {},
   "source": [
    "potřeba upravit funkci score"
   ]
  },
  {
   "cell_type": "code",
   "execution_count": 16,
   "metadata": {
    "vscode": {
     "languageId": "r"
    }
   },
   "outputs": [],
   "source": [
    "Score <- function(s, i, DNA, l) {\n",
    "  # Initialize the frequency profile matrix\n",
    "  profile <- matrix(0, nrow = 4, ncol = l, dimnames = list(c(\"A\", \"C\", \"G\", \"T\")))\n",
    "  \n",
    "  # Fill in the profile matrix for the first i rows\n",
    "  for (j in 1:i) {\n",
    "    start <- s[j]\n",
    "    motif <- subseq(DNA[[j]], start, start + l - 1)\n",
    "    for (k in 1:l) {\n",
    "      nucleotide <- as.character(motif[k])\n",
    "      profile[nucleotide, k] <- profile[nucleotide, k] + 1\n",
    "    }\n",
    "  }\n",
    "  \n",
    "  # Calculate the score by summing the highest counts in each column (consensus string score)\n",
    "  score <- sum(apply(profile, 2, max))\n",
    "  return(score)\n",
    "}"
   ]
  },
  {
   "cell_type": "code",
   "execution_count": 17,
   "metadata": {
    "vscode": {
     "languageId": "r"
    }
   },
   "outputs": [],
   "source": [
    "BBMotifSearch <- function(DNA, t, n, l) {\n",
    "  # Step 1: Initialize starting positions array s and bestScore\n",
    "  s <- rep(1, t)\n",
    "  bestScore <- 0\n",
    "  bestMotif <- s\n",
    "  i <- 1\n",
    "  \n",
    "  # Maximum starting index k for each sequence\n",
    "  k <- n - l + 1\n",
    "  \n",
    "  # Step 2: Branch-and-Bound search\n",
    "  while (i > 0) {\n",
    "    if (i < t) {\n",
    "      # Calculate optimistic score for partial consensus up to row i\n",
    "      optimisticScore <- Score(s, i, DNA, l) + (t - i) * l\n",
    "      if (optimisticScore < bestScore) {\n",
    "        # Skip subtree if optimistic score is less than current best score\n",
    "        bypass_result <- ByPass(s, i, t, k)\n",
    "        s <- bypass_result$a\n",
    "        i <- bypass_result$i\n",
    "      } else {\n",
    "        # Move to the next vertex\n",
    "        next_vertex_result <- NextVertex(s, i, t, k)\n",
    "        s <- next_vertex_result$a\n",
    "        i <- next_vertex_result$i\n",
    "      }\n",
    "    } else {\n",
    "      # Calculate full score for current configuration\n",
    "      currentScore <- Score(s, t, DNA, l)\n",
    "      if (currentScore > bestScore) {\n",
    "        bestScore <- currentScore\n",
    "        bestMotif <- s\n",
    "      }\n",
    "      # Move to the next vertex\n",
    "      next_vertex_result <- NextVertex(s, i, t, k)\n",
    "      s <- next_vertex_result$a\n",
    "      i <- next_vertex_result$i\n",
    "    }\n",
    "  }\n",
    "  \n",
    "  # Step 3: Return the best motif found\n",
    "  return(bestMotif)\n",
    "}"
   ]
  },
  {
   "cell_type": "code",
   "execution_count": 18,
   "metadata": {
    "vscode": {
     "languageId": "r"
    }
   },
   "outputs": [
    {
     "name": "stdout",
     "output_type": "stream",
     "text": [
      "[1] 2 4 1 4\n"
     ]
    }
   ],
   "source": [
    "DNA <- DNAStringSet(c(\"AACGTGCT\", \"CATACGTA\", \"ACCTTAGC\", \"TCTCCGTA\"))\n",
    "\n",
    "# Number of sequences\n",
    "t <- length(DNA)\n",
    "\n",
    "# Length of each DNA sequence\n",
    "n <- width(DNA[1])\n",
    "\n",
    "# Motif length\n",
    "l <- 5\n",
    "\n",
    "# Run the Branch-and-Bound Motif Search\n",
    "bestMotif <- BBMotifSearch(DNA, t, n, l)\n",
    "print(bestMotif)"
   ]
  }
 ],
 "metadata": {
  "kernelspec": {
   "display_name": "R",
   "language": "R",
   "name": "ir"
  },
  "language_info": {
   "codemirror_mode": "r",
   "file_extension": ".r",
   "mimetype": "text/x-r-source",
   "name": "R",
   "pygments_lexer": "r",
   "version": "4.3.2"
  }
 },
 "nbformat": 4,
 "nbformat_minor": 2
}
